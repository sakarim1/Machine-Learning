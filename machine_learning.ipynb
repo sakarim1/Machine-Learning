{
 "cells": [
  {
   "cell_type": "markdown",
   "metadata": {
    "slideshow": null
   },
   "source": [
    "# Machine Learning - Rating Prediction\n"
   ]
  },
  {
   "cell_type": "markdown",
   "metadata": {
    "slideshow": null
   },
   "source": [
    "### The objective is to predict a new venue's popularity when the venue opens using a data set of venue popularities provided by Yelp. The data set contains information about the venue (where it is located, the type of food served, etc.). It also contains a star rating. The venues are not limited to restaurants. "
   ]
  },
  {
   "cell_type": "markdown",
   "metadata": {
    "slideshow": null
   },
   "source": [
    "### Pre-processing the data"
   ]
  },
  {
   "cell_type": "markdown",
   "metadata": {
    "slideshow": null
   },
   "source": [
    "We start by downloading the data set from Amazon S3:"
   ]
  },
  {
   "cell_type": "code",
   "execution_count": 5,
   "metadata": {
    "slideshow": null
   },
   "outputs": [],
   "source": [
    "import ujson as json\n",
    "import gzip\n",
    "\n",
    "with gzip.open('yelp_train_academic_dataset_business.json.gz') as f:\n",
    "    data = [json.loads(line) for line in f]"
   ]
  },
  {
   "cell_type": "code",
   "execution_count": 7,
   "metadata": {
    "slideshow": null
   },
   "outputs": [],
   "source": [
    "star_ratings = [row['stars'] for row in data]"
   ]
  },
  {
   "cell_type": "markdown",
   "metadata": {
    "slideshow": null
   },
   "source": [
    "### Since venues belong to different cities, the ratings in some cities are likely higher than others.Therefore, I build an estimator to make a prediction based on this."
   ]
  },
  {
   "cell_type": "code",
   "execution_count": 6,
   "metadata": {
    "slideshow": null
   },
   "outputs": [],
   "source": [
    "from collections import defaultdict\n",
    "\n",
    "star_sum = defaultdict(int) \n",
    "count = defaultdict(int)"
   ]
  },
  {
   "cell_type": "code",
   "execution_count": null,
   "metadata": {},
   "outputs": [],
   "source": [
    "cities = [row['city'] for row in data]"
   ]
  },
  {
   "cell_type": "code",
   "execution_count": 11,
   "metadata": {
    "scrolled": true,
    "slideshow": null
   },
   "outputs": [],
   "source": [
    "for row, stars in zip(cities, star_ratings):\n",
    "    star_sum[row] += stars # increment the running sum in star_sum\n",
    "    count[row] += 1 # increment the running count in count"
   ]
  },
  {
   "cell_type": "code",
   "execution_count": 76,
   "metadata": {
    "slideshow": null
   },
   "outputs": [],
   "source": [
    "avg_stars = dict()  # calculate average star rating and store in avg_stars\n",
    "\n",
    "avg_scores = [star_sum[city]/ count[city] for city in star_sum]\n",
    "cities = [city for city in star_sum]\n",
    "\n",
    "for city, score in zip(cities, avg_scores):\n",
    "    avg_stars[city] = score"
   ]
  },
  {
   "cell_type": "code",
   "execution_count": 80,
   "metadata": {},
   "outputs": [],
   "source": [
    "cities = [avg_stars[city] for city in avg_stars]"
   ]
  },
  {
   "cell_type": "markdown",
   "metadata": {
    "slideshow": null
   },
   "source": [
    "### I build a custom estimator that will make a prediction based just on the city of a venue. If the city is not in the list I will impute the average of the sample."
   ]
  },
  {
   "cell_type": "code",
   "execution_count": 67,
   "metadata": {
    "slideshow": null
   },
   "outputs": [],
   "source": [
    "from sklearn.base import BaseEstimator, RegressorMixin\n",
    "from collections import defaultdict\n",
    "import numpy as np\n",
    "\n",
    "class CityRegressor(BaseEstimator, RegressorMixin):\n",
    "    \n",
    "    def __init__(self):\n",
    "        self.avg_stars = dict()\n",
    "        \n",
    "    \n",
    "    def fit(self, X, y):\n",
    "        y = [row['stars'] for row in X]\n",
    "        city_list = [row['city'] for row in X]\n",
    "        star_sum, count = defaultdict(int) \n",
    "        for row, stars in zip(city_list, y):\n",
    "            star_sum[row] += stars \n",
    "            count[row] += 1 \n",
    "        self.avg_scores = [star_sum[city] / count[city] for city in star_sum]\n",
    "        cities = [city for city in star_sum]\n",
    "        for city, score in zip(cities, self.avg_scores):\n",
    "            self.avg_stars[city] = score # Store the average rating per city in self.avg_stars\n",
    "        return self\n",
    "        \n",
    "    def predict(self, X):\n",
    "        cities = [row['city'] for row in X]\n",
    "        predicts = []\n",
    "        for city in cities:\n",
    "            if city in self.avg_stars:\n",
    "                predicts.append(self.avg_stars[city])\n",
    "            else:\n",
    "                predicts.append(np.mean(self.avg_scores))\n",
    "        return predicts"
   ]
  },
  {
   "cell_type": "code",
   "execution_count": 68,
   "metadata": {
    "slideshow": null
   },
   "outputs": [],
   "source": [
    "city_model = CityRegressor()\n"
   ]
  },
  {
   "cell_type": "code",
   "execution_count": 79,
   "metadata": {},
   "outputs": [
    {
     "data": {
      "text/plain": [
       "CityRegressor()"
      ]
     },
     "execution_count": 79,
     "metadata": {},
     "output_type": "execute_result"
    }
   ],
   "source": [
    "city_model.fit(data, star_ratings)"
   ]
  },
  {
   "cell_type": "code",
   "execution_count": 10,
   "metadata": {
    "slideshow": null
   },
   "outputs": [
    {
     "data": {
      "text/plain": [
       "[3.6702903946388683, 3.75, 3.75, 3.75, 3.75]"
      ]
     },
     "execution_count": 10,
     "metadata": {},
     "output_type": "execute_result"
    }
   ],
   "source": [
    "city_model.predict(data[:5]) # checking whether it's working"
   ]
  },
  {
   "cell_type": "markdown",
   "metadata": {
    "slideshow": null
   },
   "source": [
    "There is a problem, however.  What happens if we're asked to estimate the rating of a venue in a city that's not in our training set?"
   ]
  },
  {
   "cell_type": "code",
   "execution_count": 157,
   "metadata": {
    "slideshow": null
   },
   "outputs": [
    {
     "data": {
      "text/plain": [
       "[3.6702903946388683, 3.712759336095809, 3.6457337883959045]"
      ]
     },
     "execution_count": 157,
     "metadata": {},
     "output_type": "execute_result"
    }
   ],
   "source": [
    "city_model.predict([{'city': 'Phoenix'}, {'city': 'Timbuktu'}, {'city': 'Madison'}])"
   ]
  },
  {
   "cell_type": "markdown",
   "metadata": {
    "slideshow": null
   },
   "source": [
    "### The model above does not take into account neighborhoods that are trendy. I use the latitude and longitude of a venue to understand neighborhood dynamics.(KNeighbors Regression)"
   ]
  },
  {
   "cell_type": "code",
   "execution_count": 11,
   "metadata": {
    "slideshow": null
   },
   "outputs": [],
   "source": [
    "from sklearn.base import BaseEstimator\n",
    "import pandas as pd\n",
    "from sklearn.base import TransformerMixin\n",
    "\n",
    "class ToDataFrame(BaseEstimator, TransformerMixin):\n",
    "    def fit(self, X, y=None):\n",
    "        return self\n",
    "    \n",
    "    def transform(self, X):\n",
    "        df = pd.DataFrame(X)# Return a pandas data frame from X\n",
    "        return df"
   ]
  },
  {
   "cell_type": "code",
   "execution_count": 12,
   "metadata": {
    "slideshow": null
   },
   "outputs": [],
   "source": [
    "import numpy as np\n",
    "from sklearn.compose import ColumnTransformer\n",
    "\n",
    "selector = ColumnTransformer([('lat_lon', 'passthrough', ['latitude', 'longitude'])]) \n",
    "\n",
    "expected = np.array([data[0]['latitude'], data[0]['longitude']])\n"
   ]
  },
  {
   "cell_type": "code",
   "execution_count": 20,
   "metadata": {
    "slideshow": null
   },
   "outputs": [
    {
     "data": {
      "text/plain": [
       "array([4. , 4.2, 4. , 3.8, 4.2])"
      ]
     },
     "execution_count": 20,
     "metadata": {},
     "output_type": "execute_result"
    }
   ],
   "source": [
    "from sklearn.neighbors import KNeighborsRegressor\n",
    "\n",
    "# Training the model\n",
    "data_transform = to_data_frame.transform(data)\n",
    "data_transform = selector.fit_transform(data_transform)\n",
    "knn = KNeighborsRegressor(n_neighbors=5)\n",
    "knn.fit(data_transform, star_ratings)\n",
    "\n",
    "# Making predictions\n",
    "test_data = data[:5]\n",
    "test_data_transform = to_data_frame.transform(test_data)\n",
    "test_data_transform = selector.transform(test_data_transform) # did not fit here because it's the test data\n",
    "knn.predict(test_data_transform)"
   ]
  },
  {
   "cell_type": "code",
   "execution_count": 16,
   "metadata": {
    "slideshow": null
   },
   "outputs": [],
   "source": [
    "from sklearn.pipeline import Pipeline\n",
    "from sklearn.neighbors import KNeighborsRegressor\n",
    "from sklearn.utils import shuffle\n",
    "\n",
    "\n",
    "lang_long_model = Pipeline([\n",
    "    ('data_frame', to_data_frame),\n",
    "    ('selector', selector),\n",
    "    ('knn_regression', KNeighborsRegressor(n_neighbors = 5))\n",
    "])"
   ]
  },
  {
   "cell_type": "code",
   "execution_count": 49,
   "metadata": {
    "slideshow": null
   },
   "outputs": [
    {
     "data": {
      "text/plain": [
       "array([4. , 4.2, 4. , 3.8, 4.2])"
      ]
     },
     "execution_count": 49,
     "metadata": {},
     "output_type": "execute_result"
    }
   ],
   "source": [
    "lang_long_model.fit(data, star_ratings)\n",
    "lang_long_model.predict(data[:5])"
   ]
  },
  {
   "cell_type": "code",
   "execution_count": 20,
   "metadata": {
    "slideshow": null
   },
   "outputs": [
    {
     "data": {
      "image/png": "[encoded data removed]",
      "text/plain": [
       "<Figure size 432x288 with 1 Axes>"
      ]
     },
     "metadata": {},
     "output_type": "display_data"
    }
   ],
   "source": [
    "from pandas import Series\n",
    "import matplotlib.pyplot as plt\n",
    "\n",
    "plt.plot(Series.rolling(Series(star_ratings), window=1000).mean());"
   ]
  },
  {
   "cell_type": "code",
   "execution_count": 114,
   "metadata": {},
   "outputs": [
    {
     "data": {
      "text/plain": [
       "GridSearchCV(cv=10, estimator=KNeighborsRegressor(), n_jobs=2,\n",
       "             param_grid={'n_neighbors': range(1, 100)})"
      ]
     },
     "execution_count": 114,
     "metadata": {},
     "output_type": "execute_result"
    }
   ],
   "source": [
    "from sklearn.model_selection import GridSearchCV\n",
    "\n",
    "X_random_order, y_random_order = shuffle(data_transform, star_ratings, random_state=42)\n",
    "\n",
    "\n",
    "knn_model = KNeighborsRegressor()\n",
    "gs = GridSearchCV(\n",
    "    knn_model,\n",
    "    {\"n_neighbors\": range(1,100)}, # range of hyperparameters to test  \n",
    "     cv=10, # 10-fold cross validation\n",
    "    n_jobs=2\n",
    ")\n",
    "\n",
    "gs.fit(X_random_order, y_random_order)"
   ]
  },
  {
   "cell_type": "code",
   "execution_count": 115,
   "metadata": {},
   "outputs": [
    {
     "name": "stdout",
     "output_type": "stream",
     "text": [
      "The best hyperparameter value is:  {'n_neighbors': 52}\n"
     ]
    }
   ],
   "source": [
    "print(\"The best hyperparameter value is: \", gs.best_params_)\n"
   ]
  },
  {
   "cell_type": "code",
   "execution_count": 52,
   "metadata": {},
   "outputs": [
    {
     "data": {
      "text/plain": [
       "array([3.8 , 3.8 , 4.  , 4.  , 3.8 , 2.95, 3.75, 3.85, 3.45, 3.15, 3.85,\n",
       "       3.45, 3.85, 3.45, 3.55])"
      ]
     },
     "execution_count": 52,
     "metadata": {},
     "output_type": "execute_result"
    }
   ],
   "source": [
    "gs.predict(data_transform[:15])"
   ]
  },
  {
   "cell_type": "code",
   "execution_count": null,
   "metadata": {},
   "outputs": [],
   "source": [
    "## Now that I know the neighbors are 52 I will rewrite the above. "
   ]
  },
  {
   "cell_type": "code",
   "execution_count": 38,
   "metadata": {},
   "outputs": [],
   "source": [
    "from sklearn.pipeline import Pipeline\n",
    "from sklearn.neighbors import KNeighborsRegressor\n",
    "from sklearn.utils import shuffle\n",
    "\n",
    "lat_long_model = Pipeline([\n",
    "    ('data_frame', to_data_frame),\n",
    "    ('selector', selector),\n",
    "    ('knn_regression', KNeighborsRegressor(n_neighbors = 52))\n",
    "])\n"
   ]
  },
  {
   "cell_type": "code",
   "execution_count": 117,
   "metadata": {},
   "outputs": [],
   "source": [
    "X_random_order2, y_random_order2 = shuffle(data, star_ratings, random_state=42)\n"
   ]
  },
  {
   "cell_type": "code",
   "execution_count": null,
   "metadata": {},
   "outputs": [],
   "source": [
    "lat_long_model.fit(X_random_order2, y_random_order2)"
   ]
  },
  {
   "cell_type": "code",
   "execution_count": 119,
   "metadata": {},
   "outputs": [
    {
     "data": {
      "text/plain": [
       "array([3.94230769, 3.69230769, 3.69230769, 3.63461538, 3.68269231])"
      ]
     },
     "execution_count": 119,
     "metadata": {},
     "output_type": "execute_result"
    }
   ],
   "source": [
    "lat_long_model.predict(data[:5])"
   ]
  },
  {
   "cell_type": "markdown",
   "metadata": {
    "slideshow": null
   },
   "source": [
    "### Now I try to predict rating with venue's category building an estimator that considers only the `'categories'` section of data. (Ridge Regression)"
   ]
  },
  {
   "cell_type": "code",
   "execution_count": 1,
   "metadata": {},
   "outputs": [],
   "source": [
    "import pandas as pd"
   ]
  },
  {
   "cell_type": "code",
   "execution_count": 3,
   "metadata": {
    "scrolled": true,
    "slideshow": null
   },
   "outputs": [
    {
     "name": "stdout",
     "output_type": "stream",
     "text": [
      "0       [a]\n",
      "1    [b, c]\n",
      "dtype: object\n",
      "0            {'a': 1}\n",
      "1    {'b': 1, 'c': 1}\n",
      "dtype: object\n"
     ]
    }
   ],
   "source": [
    "X_in = pd.Series([['a'], ['b', 'c']])\n",
    "X_out = pd.Series([{'a': 1}, {'b': 1, 'c': 1}])\n",
    "\n",
    "print(X_in)\n",
    "print(X_out)"
   ]
  },
  {
   "cell_type": "code",
   "execution_count": 5,
   "metadata": {},
   "outputs": [],
   "source": [
    "def convert(given):\n",
    "    my_list = []\n",
    "    for nested_list in given:\n",
    "        count = [nested_list.count(letter) for letter in nested_list]\n",
    "        dictionary = {nested_list[y]: count[y] for y in range(0, len(nested_list))}\n",
    "        my_list.append(dictionary)\n",
    "    return pd.Series(my_list)"
   ]
  },
  {
   "cell_type": "code",
   "execution_count": 8,
   "metadata": {},
   "outputs": [
    {
     "data": {
      "text/plain": [
       "0            {'a': 1}\n",
       "1    {'b': 1, 'c': 1}\n",
       "dtype: object"
      ]
     },
     "execution_count": 8,
     "metadata": {},
     "output_type": "execute_result"
    }
   ],
   "source": [
    "convert(X_in)"
   ]
  },
  {
   "cell_type": "code",
   "execution_count": 20,
   "metadata": {
    "slideshow": null
   },
   "outputs": [],
   "source": [
    "from sklearn.base import BaseEstimator\n",
    "import pandas as pd\n",
    "from sklearn.base import TransformerMixin\n",
    "\n",
    "class DictEncoder(BaseEstimator, TransformerMixin):\n",
    "    \n",
    "    def fit(self, X, y=None):\n",
    "        return self\n",
    "    \n",
    "    def transform(self, X):\n",
    "        my_list = []\n",
    "        categories = [row['categories'] for row in X]\n",
    "        for nested_list in categories:\n",
    "            count = [nested_list.count(letter) for letter in nested_list]\n",
    "            dictionary = {nested_list[y]: count[y] for y in range(0, len(nested_list))}\n",
    "            my_list.append(dictionary)\n",
    "        return pd.Series(my_list) # X will be a pandas series. Return a pandas series of dictionaries     "
   ]
  },
  {
   "cell_type": "code",
   "execution_count": 21,
   "metadata": {},
   "outputs": [],
   "source": [
    "from sklearn.feature_extraction import DictVectorizer\n",
    "v = DictVectorizer()"
   ]
  },
  {
   "cell_type": "code",
   "execution_count": 23,
   "metadata": {},
   "outputs": [],
   "source": [
    "dict_encoder = DictEncoder()\n",
    "data_encoded = dict_encoder.fit_transform(data)"
   ]
  },
  {
   "cell_type": "code",
   "execution_count": 31,
   "metadata": {},
   "outputs": [
    {
     "data": {
      "text/plain": [
       "0                    {'Doctors': 1, 'Health & Medical': 1}\n",
       "1                                       {'Restaurants': 1}\n",
       "2          {'American (Traditional)': 1, 'Restaurants': 1}\n",
       "3        {'Food': 1, 'Ice Cream & Frozen Yogurt': 1, 'F...\n",
       "4                         {'Chinese': 1, 'Restaurants': 1}\n",
       "                               ...                        \n",
       "37933    {'Bars': 1, 'Hookah Bars': 1, 'Nightlife': 1, ...\n",
       "37934    {'Active Life': 1, 'Barre Classes': 1, 'Pilate...\n",
       "37935                {'Yelp Events': 1, 'Local Flavor': 1}\n",
       "37936    {'Kosher': 1, 'Italian': 1, 'Pizza': 1, 'Resta...\n",
       "37937    {'Food': 1, 'Ethnic Food': 1, 'Grocery': 1, 'S...\n",
       "Length: 37938, dtype: object"
      ]
     },
     "execution_count": 31,
     "metadata": {},
     "output_type": "execute_result"
    }
   ],
   "source": [
    "data_encoded"
   ]
  },
  {
   "cell_type": "code",
   "execution_count": 32,
   "metadata": {},
   "outputs": [
    {
     "data": {
      "text/plain": [
       "<37938x706 sparse matrix of type '<class 'numpy.float64'>'\n",
       "\twith 108205 stored elements in Compressed Sparse Row format>"
      ]
     },
     "execution_count": 32,
     "metadata": {},
     "output_type": "execute_result"
    }
   ],
   "source": [
    "vectorized = v.fit_transform(data_encoded); vectorized"
   ]
  },
  {
   "cell_type": "code",
   "execution_count": 24,
   "metadata": {
    "slideshow": null
   },
   "outputs": [],
   "source": [
    "from sklearn.linear_model import Ridge\n",
    "from sklearn.pipeline import Pipeline\n",
    "\n",
    "\n",
    "category_model = Pipeline([\n",
    "    ('dict_encoder', dict_encoder),\n",
    "    ('vectorizer', v),\n",
    "    ('ridge_reg', Ridge())\n",
    "])"
   ]
  },
  {
   "cell_type": "code",
   "execution_count": 76,
   "metadata": {},
   "outputs": [
    {
     "data": {
      "text/plain": [
       "Pipeline(steps=[('dict_encoder', DictEncoder()),\n",
       "                ('vectorizer', DictVectorizer()), ('ridge_reg', Ridge())])"
      ]
     },
     "execution_count": 76,
     "metadata": {},
     "output_type": "execute_result"
    }
   ],
   "source": [
    "category_model.fit(data, star_ratings)"
   ]
  },
  {
   "cell_type": "code",
   "execution_count": 39,
   "metadata": {},
   "outputs": [
    {
     "data": {
      "text/plain": [
       "array([3.33938799, 3.34715743, 3.28317329, 3.22126968, 3.30403748])"
      ]
     },
     "execution_count": 39,
     "metadata": {},
     "output_type": "execute_result"
    }
   ],
   "source": [
    "category_model.predict(data[:5])"
   ]
  },
  {
   "cell_type": "code",
   "execution_count": 80,
   "metadata": {},
   "outputs": [
    {
     "data": {
      "text/plain": [
       "GridSearchCV(cv=10, estimator=Ridge(),\n",
       "             param_grid={'alpha': [1, 2, 3, 4, 5, 6, 7, 8, 9, 10, 12, 15, 20]})"
      ]
     },
     "execution_count": 80,
     "metadata": {},
     "output_type": "execute_result"
    }
   ],
   "source": [
    "from sklearn.model_selection import GridSearchCV\n",
    "\n",
    "rg = Ridge()\n",
    "ridge_model = GridSearchCV(\n",
    "    rg,\n",
    "    {'alpha': [1,2,3,4,5,6,7,8,9,10,12,15,20]}, # range of hyperparameters to test  \n",
    "     cv=10 # 5-fold cross validation\n",
    ")\n",
    "\n",
    "ridge_model.fit(vectorized, star_ratings) \n"
   ]
  },
  {
   "cell_type": "code",
   "execution_count": 81,
   "metadata": {},
   "outputs": [
    {
     "data": {
      "text/plain": [
       "{'alpha': 7}"
      ]
     },
     "execution_count": 81,
     "metadata": {},
     "output_type": "execute_result"
    }
   ],
   "source": [
    "ridge_model.best_params_"
   ]
  },
  {
   "cell_type": "markdown",
   "metadata": {
    "slideshow": null
   },
   "source": [
    "### Next I use attributes for each venue to star rating. (Ridge Regression & Random Forest & Custom built Boosting logic - Linear+NonlinearModel)\n"
   ]
  },
  {
   "cell_type": "code",
   "execution_count": 25,
   "metadata": {},
   "outputs": [],
   "source": [
    "# 1...to pd \n",
    "to_data_frame = ToDataFrame()\n",
    "transformed_data = to_data_frame.fit_transform(data)"
   ]
  },
  {
   "cell_type": "code",
   "execution_count": 16,
   "metadata": {},
   "outputs": [],
   "source": [
    "## Building custom transformer to flatten the dictionary"
   ]
  },
  {
   "cell_type": "code",
   "execution_count": 26,
   "metadata": {},
   "outputs": [
    {
     "data": {
      "text/plain": [
       "0                               {'By Appointment Only': 1}\n",
       "1        {'Take-out': 1, 'Good For_dessert': 0, 'Good F...\n",
       "2        {'Take-out': 1, 'Good For_dessert': 0, 'Good F...\n",
       "3        {'Take-out': 1, 'Wi-Fi_free': 1, 'Takes Reserv...\n",
       "4        {'Take-out': 1, 'Has TV': 0, 'Outdoor Seating'...\n",
       "                               ...                        \n",
       "37933    {'Alcohol_none': 1, 'Good For Dancing': 1, 'No...\n",
       "37934                                                   {}\n",
       "37935                                 {'Good for Kids': 0}\n",
       "37936    {'Take-out': 1, 'Wi-Fi_no': 1, 'Good For_desse...\n",
       "37937    {'Parking_garage': 0, 'Parking_street': 0, 'Pa...\n",
       "Name: attributes, Length: 37938, dtype: object"
      ]
     },
     "execution_count": 26,
     "metadata": {},
     "output_type": "execute_result"
    }
   ],
   "source": [
    "# to see whether function works outside transformer\n",
    "\n",
    "def flatten(d, prefix=''):\n",
    "    prefix = prefix + '_' if prefix else ''\n",
    "    new = {}\n",
    "    for k, v in d.items():\n",
    "        if isinstance(v, bool):\n",
    "            new[prefix + k] = int(v)\n",
    "        elif isinstance(v, dict):\n",
    "            new.update(flatten(v, prefix=prefix + k))\n",
    "        elif isinstance(v, str):  \n",
    "            new[prefix + k + '_' + v] = 1\n",
    "    return new\n",
    "\n",
    "transformed_data['attributes'].apply(flatten)\n"
   ]
  },
  {
   "cell_type": "code",
   "execution_count": 10,
   "metadata": {},
   "outputs": [],
   "source": [
    "atts = transformed_data['attributes']\n"
   ]
  },
  {
   "cell_type": "code",
   "execution_count": 27,
   "metadata": {},
   "outputs": [],
   "source": [
    "from sklearn.base import BaseEstimator\n",
    "import pandas as pd\n",
    "from sklearn.base import TransformerMixin\n",
    "\n",
    "class DictFlattener(BaseEstimator, TransformerMixin):\n",
    "    \n",
    "    def fit(self, X, y=None):\n",
    "        return self\n",
    "    \n",
    "    def flatten(d, prefix=''):\n",
    "        prefix = prefix + '_' if prefix else ''\n",
    "        new = {}\n",
    "        for k, v in d.items():\n",
    "            if isinstance(v, bool):\n",
    "                new[prefix + k] = int(v)\n",
    "            elif isinstance(v, dict):\n",
    "                new.update(flatten(v, prefix=prefix + k))\n",
    "            elif isinstance(v, str):  \n",
    "                new[prefix + k + '_' + v] = 1\n",
    "        return new\n",
    "    \n",
    "    def transform(self, X):\n",
    "        attributes = X['attributes']\n",
    "        return attributes.apply(flatten)"
   ]
  },
  {
   "cell_type": "code",
   "execution_count": 28,
   "metadata": {},
   "outputs": [],
   "source": [
    "dict_flattener = DictFlattener()\n",
    "\n",
    "my_dict = dict_flattener.fit_transform(transformed_data) # seems to be working fine"
   ]
  },
  {
   "cell_type": "code",
   "execution_count": 16,
   "metadata": {},
   "outputs": [
    {
     "data": {
      "text/plain": [
       "0                               {'By Appointment Only': 1}\n",
       "1        {'Take-out': 1, 'Good For_dessert': 0, 'Good F...\n",
       "2        {'Take-out': 1, 'Good For_dessert': 0, 'Good F...\n",
       "3        {'Take-out': 1, 'Wi-Fi_free': 1, 'Takes Reserv...\n",
       "4        {'Take-out': 1, 'Has TV': 0, 'Outdoor Seating'...\n",
       "                               ...                        \n",
       "37933    {'Alcohol_none': 1, 'Good For Dancing': 1, 'No...\n",
       "37934                                                   {}\n",
       "37935                                 {'Good for Kids': 0}\n",
       "37936    {'Take-out': 1, 'Wi-Fi_no': 1, 'Good For_desse...\n",
       "37937    {'Parking_garage': 0, 'Parking_street': 0, 'Pa...\n",
       "Name: attributes, Length: 37938, dtype: object"
      ]
     },
     "execution_count": 16,
     "metadata": {},
     "output_type": "execute_result"
    }
   ],
   "source": [
    "my_dict = pd.Series(my_dict); my_dict\n"
   ]
  },
  {
   "cell_type": "code",
   "execution_count": null,
   "metadata": {},
   "outputs": [],
   "source": [
    "# Vectorizing"
   ]
  },
  {
   "cell_type": "code",
   "execution_count": 29,
   "metadata": {},
   "outputs": [],
   "source": [
    "from sklearn.feature_extraction import DictVectorizer\n",
    "v = DictVectorizer()"
   ]
  },
  {
   "cell_type": "code",
   "execution_count": 18,
   "metadata": {},
   "outputs": [
    {
     "data": {
      "text/plain": [
       "<37938x92 sparse matrix of type '<class 'numpy.float64'>'\n",
       "\twith 506304 stored elements in Compressed Sparse Row format>"
      ]
     },
     "execution_count": 18,
     "metadata": {},
     "output_type": "execute_result"
    }
   ],
   "source": [
    "vectorized = v.fit_transform(my_dict); vectorized"
   ]
  },
  {
   "cell_type": "markdown",
   "metadata": {},
   "source": [
    "#### RIDGE AND SELECTING ALPHA"
   ]
  },
  {
   "cell_type": "code",
   "execution_count": 19,
   "metadata": {},
   "outputs": [
    {
     "data": {
      "text/plain": [
       "GridSearchCV(estimator=Ridge(), n_jobs=-1,\n",
       "             param_grid={'alpha': [1, 0.1, 0.01, 0.001, 0.0001, 0]})"
      ]
     },
     "execution_count": 19,
     "metadata": {},
     "output_type": "execute_result"
    }
   ],
   "source": [
    "from sklearn.linear_model import Ridge\n",
    "from sklearn.model_selection import GridSearchCV\n",
    "\n",
    "\n",
    "rg = Ridge()\n",
    "ridge = GridSearchCV(\n",
    "    rg,\n",
    "    {'alpha': [1,0.1,0.01,0.001,0.0001,0]}, # range of hyperparameters to test  \n",
    "     n_jobs=-1\n",
    ")\n",
    "\n",
    "ridge.fit(vectorized, star_ratings) "
   ]
  },
  {
   "cell_type": "code",
   "execution_count": 20,
   "metadata": {},
   "outputs": [
    {
     "data": {
      "text/plain": [
       "{'alpha': 1}"
      ]
     },
     "execution_count": 20,
     "metadata": {},
     "output_type": "execute_result"
    }
   ],
   "source": [
    "ridge.best_params_"
   ]
  },
  {
   "cell_type": "code",
   "execution_count": 21,
   "metadata": {},
   "outputs": [],
   "source": [
    "ridge_predicts = ridge.predict(vectorized)"
   ]
  },
  {
   "cell_type": "code",
   "execution_count": 46,
   "metadata": {},
   "outputs": [
    {
     "data": {
      "text/plain": [
       "0.07129656382651806"
      ]
     },
     "execution_count": 46,
     "metadata": {},
     "output_type": "execute_result"
    }
   ],
   "source": [
    "ridge.score(vectorized, star_ratings)"
   ]
  },
  {
   "cell_type": "markdown",
   "metadata": {},
   "source": [
    "#### Predicting Residuals"
   ]
  },
  {
   "cell_type": "code",
   "execution_count": 22,
   "metadata": {},
   "outputs": [],
   "source": [
    "residuals = star_ratings - ridge_predicts"
   ]
  },
  {
   "cell_type": "code",
   "execution_count": null,
   "metadata": {},
   "outputs": [],
   "source": [
    "RANDOM AND SELECTING PARAMATERS"
   ]
  },
  {
   "cell_type": "code",
   "execution_count": 30,
   "metadata": {},
   "outputs": [],
   "source": [
    "from sklearn.ensemble import RandomForestRegressor\n",
    "from sklearn.model_selection import GridSearchCV\n",
    "\n",
    "rf = RandomForestRegressor()\n",
    "random_forest = GridSearchCV(\n",
    "    rf,\n",
    "    {'max_depth':[20,50], 'min_samples_leaf':[15, 30]}\n",
    ")\n",
    "\n"
   ]
  },
  {
   "cell_type": "code",
   "execution_count": 31,
   "metadata": {},
   "outputs": [
    {
     "data": {
      "text/plain": [
       "GridSearchCV(estimator=RandomForestRegressor(),\n",
       "             param_grid={'max_depth': [20, 50], 'min_samples_leaf': [15, 30]})"
      ]
     },
     "execution_count": 31,
     "metadata": {},
     "output_type": "execute_result"
    }
   ],
   "source": [
    "random_forest.fit(vectorized, residuals)"
   ]
  },
  {
   "cell_type": "code",
   "execution_count": 32,
   "metadata": {},
   "outputs": [
    {
     "data": {
      "text/plain": [
       "{'max_depth': 20, 'min_samples_leaf': 15}"
      ]
     },
     "execution_count": 32,
     "metadata": {},
     "output_type": "execute_result"
    }
   ],
   "source": [
    "random_forest.best_params_"
   ]
  },
  {
   "cell_type": "code",
   "execution_count": 86,
   "metadata": {},
   "outputs": [],
   "source": [
    "from sklearn.ensemble import RandomForestRegressor\n",
    "\n",
    "random_forest = RandomForestRegressor(max_depth = 70, min_samples_leaf = 1, n_estimators = 50)"
   ]
  },
  {
   "cell_type": "code",
   "execution_count": 84,
   "metadata": {},
   "outputs": [],
   "source": [
    "\n",
    "r_forest = random_forest.fit(vectorized, residuals)"
   ]
  },
  {
   "cell_type": "code",
   "execution_count": 85,
   "metadata": {},
   "outputs": [
    {
     "data": {
      "text/plain": [
       "0.16631745624638972"
      ]
     },
     "execution_count": 85,
     "metadata": {},
     "output_type": "execute_result"
    }
   ],
   "source": [
    "r_forest.score(vectorized, residuals)"
   ]
  },
  {
   "cell_type": "code",
   "execution_count": 87,
   "metadata": {},
   "outputs": [],
   "source": [
    "# writing the class"
   ]
  },
  {
   "cell_type": "code",
   "execution_count": 48,
   "metadata": {},
   "outputs": [],
   "source": [
    "from sklearn.base import BaseEstimator, RegressorMixin\n",
    "from sklearn.linear_model import Ridge\n",
    "from sklearn.ensemble import RandomForestRegressor\n",
    "\n",
    "class LinNonLin(BaseEstimator, RegressorMixin):\n",
    "    \n",
    "    def __init__(self, ridge = Ridge(alpha = 1), \n",
    "                 randomforest = RandomForestRegressor(max_depth = 30, min_samples_leaf = 12, n_estimators = 80)):\n",
    "        self.ridge = ridge\n",
    "        self.randomforest = randomforest\n",
    "\n",
    "    def fit(self, X, y):\n",
    "        self.ridge_reg = self.ridge.fit(X, y) \n",
    "        self.ridge_predicts = self.ridge_reg.predict(X)\n",
    "        self.residuals = y - self.ridge_predicts\n",
    "        self.random_forest = self.randomforest.fit(X, self.residuals)\n",
    "        return self\n",
    "        \n",
    "    def predict(self, X):\n",
    "        ridge_predicts = self.ridge_reg.predict(X)\n",
    "        forest_predicts = self.random_forest.predict(X)\n",
    "        total_predicts = ridge_predicts + forest_predicts\n",
    "        return total_predicts"
   ]
  },
  {
   "cell_type": "code",
   "execution_count": 49,
   "metadata": {},
   "outputs": [],
   "source": [
    "linnonlin = LinNonLin()"
   ]
  },
  {
   "cell_type": "code",
   "execution_count": null,
   "metadata": {},
   "outputs": [],
   "source": [
    "model = linnonlin.fit(vectorized, star_ratings)"
   ]
  },
  {
   "cell_type": "code",
   "execution_count": 124,
   "metadata": {},
   "outputs": [
    {
     "data": {
      "text/plain": [
       "0.22698111020159262"
      ]
     },
     "execution_count": 124,
     "metadata": {},
     "output_type": "execute_result"
    }
   ],
   "source": [
    "model.score(vectorized, star_ratings)"
   ]
  },
  {
   "cell_type": "code",
   "execution_count": 125,
   "metadata": {},
   "outputs": [
    {
     "data": {
      "text/plain": [
       "array([3.91759825, 3.91548645, 3.83296119, ..., 3.68663293, 4.4451368 ,\n",
       "       3.75960394])"
      ]
     },
     "execution_count": 125,
     "metadata": {},
     "output_type": "execute_result"
    }
   ],
   "source": [
    "model.predict(vectorized)"
   ]
  },
  {
   "cell_type": "code",
   "execution_count": null,
   "metadata": {},
   "outputs": [],
   "source": [
    "### Forming the pipe"
   ]
  },
  {
   "cell_type": "code",
   "execution_count": null,
   "metadata": {},
   "outputs": [],
   "source": [
    "## Creating the linear+non-linear ensemble predictor"
   ]
  },
  {
   "cell_type": "code",
   "execution_count": 50,
   "metadata": {},
   "outputs": [],
   "source": [
    "from sklearn.pipeline import Pipeline\n",
    "from sklearn.linear_model import LinearRegression # Use Ridge and find the alpha\n",
    "attribute_model = Pipeline([\n",
    "    ('todataframe', to_data_frame),\n",
    "    ('dict_flattener', dict_flattener),\n",
    "    ('vectorizer', v),\n",
    "    ('linearandnonlinear', LinNonLin())\n",
    "])"
   ]
  },
  {
   "cell_type": "code",
   "execution_count": 154,
   "metadata": {},
   "outputs": [
    {
     "data": {
      "text/plain": [
       "Pipeline(steps=[('todataframe', ToDataFrame()),\n",
       "                ('dict_flattener', DictFlattener()),\n",
       "                ('vectorizer', DictVectorizer()),\n",
       "                ('linearandnonlinear', LinNonLin())])"
      ]
     },
     "execution_count": 154,
     "metadata": {},
     "output_type": "execute_result"
    }
   ],
   "source": [
    "attribute_model.fit(data, star_ratings)"
   ]
  },
  {
   "cell_type": "code",
   "execution_count": 138,
   "metadata": {},
   "outputs": [
    {
     "data": {
      "text/plain": [
       "array([3.49258348, 3.75663747, 3.75663747, 3.68107225, 3.70377042,\n",
       "       3.36347171, 3.28170706, 3.53028967, 2.66722115, 3.68439716])"
      ]
     },
     "execution_count": 138,
     "metadata": {},
     "output_type": "execute_result"
    }
   ],
   "source": [
    "attribute_model.predict(data[100:110])"
   ]
  },
  {
   "cell_type": "code",
   "execution_count": 139,
   "metadata": {},
   "outputs": [
    {
     "data": {
      "text/plain": [
       "[3.5, 4.0, 3.0, 3.0, 5.0, 3.5, 3.5, 2.5, 1.5, 1.5]"
      ]
     },
     "execution_count": 139,
     "metadata": {},
     "output_type": "execute_result"
    }
   ],
   "source": [
    "star_ratings[100:110]"
   ]
  },
  {
   "cell_type": "markdown",
   "metadata": {
    "slideshow": null
   },
   "source": [
    "### Finally, I build an ensemble regressor that averages the estimates of the four previous regressors."
   ]
  },
  {
   "cell_type": "code",
   "execution_count": 83,
   "metadata": {
    "slideshow": null
   },
   "outputs": [],
   "source": [
    "import numpy as np\n",
    "from sklearn.base import BaseEstimator, TransformerMixin\n",
    "\n",
    "class ModelTransformer(BaseEstimator, TransformerMixin):\n",
    "    \n",
    "    def __init__(self, model):\n",
    "        self.model = model\n",
    "    \n",
    "    def fit(self, X, y):\n",
    "        self.fitted_model = self.model.fit(X, y) \n",
    "        return self\n",
    "    \n",
    "    def transform(self, X):\n",
    "        predict = self.fitted_model.predict(X) \n",
    "        return np.array(predict).reshape(-1, 1) \n",
    "        \n",
    "       "
   ]
  },
  {
   "cell_type": "code",
   "execution_count": null,
   "metadata": {},
   "outputs": [],
   "source": [
    "city_trans = ModelTransformer(city_model)\n",
    "city_trans.fit(data, star_ratings)\n",
    "X_t = city_trans.transform(data[:5])"
   ]
  },
  {
   "cell_type": "code",
   "execution_count": null,
   "metadata": {},
   "outputs": [],
   "source": [
    "y_pred = np.array(city_model.predict(data[:5]))"
   ]
  },
  {
   "cell_type": "code",
   "execution_count": 86,
   "metadata": {},
   "outputs": [],
   "source": [
    "city_trans = ModelTransformer(city_model)\n",
    "lat_long_trans = ModelTransformer(lat_long_model)\n",
    "category_trans = ModelTransformer(category_model)\n",
    "attribute_trans = ModelTransformer(attribute_model)"
   ]
  },
  {
   "cell_type": "code",
   "execution_count": 87,
   "metadata": {
    "slideshow": null
   },
   "outputs": [],
   "source": [
    "from sklearn.pipeline import FeatureUnion\n",
    "\n",
    "union = FeatureUnion([\n",
    "    ('city', city_trans),\n",
    "    ('lat_long', lat_long_trans),\n",
    "    ('category', category_trans),\n",
    "    ('attribute',attribute_trans)\n",
    "        # FeatureUnion uses the same syntax as Pipeline\n",
    "    ])"
   ]
  },
  {
   "cell_type": "code",
   "execution_count": null,
   "metadata": {},
   "outputs": [],
   "source": [
    "union.fit(data, star_ratings)\n",
    "X_t = union.transform(data[:5])"
   ]
  },
  {
   "cell_type": "code",
   "execution_count": 55,
   "metadata": {},
   "outputs": [],
   "source": [
    "union_data = union.transform(data)"
   ]
  },
  {
   "cell_type": "code",
   "execution_count": 76,
   "metadata": {
    "slideshow": null
   },
   "outputs": [],
   "source": [
    "from sklearn.ensemble import RandomForestRegressor\n",
    "from sklearn.model_selection import GridSearchCV\n",
    "\n",
    "rf = RandomForestRegressor()\n",
    "random_forest = GridSearchCV(\n",
    "    rf,\n",
    "    {'max_depth':[20,50], 'min_samples_leaf':[30, 40, 50]}\n",
    ")\n",
    "\n"
   ]
  },
  {
   "cell_type": "code",
   "execution_count": 59,
   "metadata": {},
   "outputs": [
    {
     "data": {
      "text/plain": [
       "GridSearchCV(estimator=RandomForestRegressor(),\n",
       "             param_grid={'max_depth': [20, 50],\n",
       "                         'min_samples_leaf': [30, 40, 50]})"
      ]
     },
     "execution_count": 59,
     "metadata": {},
     "output_type": "execute_result"
    }
   ],
   "source": [
    "random_forest.fit(union_data, star_ratings)"
   ]
  },
  {
   "cell_type": "code",
   "execution_count": 60,
   "metadata": {},
   "outputs": [
    {
     "data": {
      "text/plain": [
       "{'max_depth': 50, 'min_samples_leaf': 50}"
      ]
     },
     "execution_count": 60,
     "metadata": {},
     "output_type": "execute_result"
    }
   ],
   "source": [
    "random_forest.best_params_"
   ]
  },
  {
   "cell_type": "code",
   "execution_count": 62,
   "metadata": {},
   "outputs": [
    {
     "data": {
      "text/plain": [
       "array([3.55511764, 3.64000207, 3.53408098, ..., 4.65726235, 3.92229575,\n",
       "       4.03693642])"
      ]
     },
     "execution_count": 62,
     "metadata": {},
     "output_type": "execute_result"
    }
   ],
   "source": [
    "random_forest.predict(union_data)"
   ]
  },
  {
   "cell_type": "code",
   "execution_count": 89,
   "metadata": {},
   "outputs": [],
   "source": [
    "from sklearn.pipeline import Pipeline\n",
    "from sklearn.ensemble import RandomForestRegressor\n",
    "\n",
    "\n",
    "full_model = Pipeline ([\n",
    "    ('union', union),\n",
    "    ('random_forest', RandomForestRegressor(max_depth = 50, min_samples_leaf =50) )\n",
    "])"
   ]
  },
  {
   "cell_type": "code",
   "execution_count": 90,
   "metadata": {},
   "outputs": [
    {
     "data": {
      "text/plain": [
       "Pipeline(steps=[('union',\n",
       "                 FeatureUnion(transformer_list=[('city',\n",
       "                                                 ModelTransformer(model=CityRegressor())),\n",
       "                                                ('lat_long',\n",
       "                                                 ModelTransformer(model=Pipeline(steps=[('data_frame',\n",
       "                                                                                         ToDataFrame()),\n",
       "                                                                                        ('selector',\n",
       "                                                                                         ColumnTransformer(transformers=[('lat_lon',\n",
       "                                                                                                                          'passthrough',\n",
       "                                                                                                                          ['latitude',\n",
       "                                                                                                                           'longitude'])])),\n",
       "                                                                                        ('knn_regression',\n",
       "                                                                                         KNeighborsRegressor(n_neighbors=52))]))),\n",
       "                                                ('catego...\n",
       "                                                 ModelTransformer(model=Pipeline(steps=[('dict_encoder',\n",
       "                                                                                         DictEncoder()),\n",
       "                                                                                        ('vectorizer',\n",
       "                                                                                         DictVectorizer()),\n",
       "                                                                                        ('ridge_reg',\n",
       "                                                                                         Ridge())]))),\n",
       "                                                ('attribute',\n",
       "                                                 ModelTransformer(model=Pipeline(steps=[('todataframe',\n",
       "                                                                                         ToDataFrame()),\n",
       "                                                                                        ('dict_flattener',\n",
       "                                                                                         DictFlattener()),\n",
       "                                                                                        ('vectorizer',\n",
       "                                                                                         DictVectorizer()),\n",
       "                                                                                        ('linearandnonlinear',\n",
       "                                                                                         LinNonLin())])))])),\n",
       "                ('random_forest',\n",
       "                 RandomForestRegressor(max_depth=50, min_samples_leaf=50))])"
      ]
     },
     "execution_count": 90,
     "metadata": {},
     "output_type": "execute_result"
    }
   ],
   "source": [
    "full_model.fit(data, star_ratings)"
   ]
  }
 ],
 "metadata": {
  "kernelspec": {
   "display_name": "Python 3 (ipykernel)",
   "language": "python",
   "name": "python3"
  },
  "language_info": {
   "codemirror_mode": {
    "name": "ipython",
    "version": 3
   },
   "file_extension": ".py",
   "mimetype": "text/x-python",
   "name": "python",
   "nbconvert_exporter": "python",
   "pygments_lexer": "ipython3",
   "version": "3.9.12"
  },
  "nbclean": true
 },
 "nbformat": 4,
 "nbformat_minor": 4
}
